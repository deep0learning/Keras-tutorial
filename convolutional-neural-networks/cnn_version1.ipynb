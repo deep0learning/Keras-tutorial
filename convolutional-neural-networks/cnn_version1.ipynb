{
 "cells": [
  {
   "cell_type": "code",
   "execution_count": 1,
   "metadata": {},
   "outputs": [
    {
     "name": "stderr",
     "output_type": "stream",
     "text": [
      "Using TensorFlow backend.\n"
     ]
    }
   ],
   "source": [
    "from IPython.display import Image, SVG\n",
    "import matplotlib.pyplot as plt\n",
    "\n",
    "%matplotlib inline\n",
    "\n",
    "import numpy as np\n",
    "import keras\n",
    "from keras.datasets import mnist\n",
    "from keras.utils import np_utils\n",
    "from keras.models import Sequential\n",
    "from keras.layers import Dense, Conv2D, Flatten, MaxPooling2D, Dropout\n",
    "\n",
    "from keras.utils.vis_utils import model_to_dot\n"
   ]
  },
  {
   "cell_type": "code",
   "execution_count": 2,
   "metadata": {},
   "outputs": [],
   "source": [
    "# Loads the training and test data sets\n",
    "(X_train, y_train), (X_test, y_test) = mnist.load_data()\n",
    "y_test_confusion_matrix = y_test"
   ]
  },
  {
   "cell_type": "code",
   "execution_count": 3,
   "metadata": {},
   "outputs": [],
   "source": [
    "first_image = X_train[0, :, :]"
   ]
  },
  {
   "cell_type": "code",
   "execution_count": 4,
   "metadata": {},
   "outputs": [
    {
     "data": {
      "image/png": "[encoded data removed]",
      "text/plain": [
       "<matplotlib.figure.Figure at 0x7f2aec0f7710>"
      ]
     },
     "metadata": {},
     "output_type": "display_data"
    }
   ],
   "source": [
    "# To interpret the values as a 28x28 image, we need to reshape\n",
    "# the numpy array, which is one dimensional.\n",
    "plt.imshow(first_image, cmap=plt.cm.Greys);"
   ]
  },
  {
   "cell_type": "code",
   "execution_count": 5,
   "metadata": {},
   "outputs": [
    {
     "data": {
      "text/plain": [
       "10"
      ]
     },
     "execution_count": 5,
     "metadata": {},
     "output_type": "execute_result"
    }
   ],
   "source": [
    "num_classes = len(np.unique(y_train))\n",
    "num_classes"
   ]
  },
  {
   "cell_type": "code",
   "execution_count": 6,
   "metadata": {},
   "outputs": [
    {
     "data": {
      "text/plain": [
       "(60000, 28, 28)"
      ]
     },
     "execution_count": 6,
     "metadata": {},
     "output_type": "execute_result"
    }
   ],
   "source": [
    "# 60K training 28 x 28 (pixel) images\n",
    "X_train.shape\n"
   ]
  },
  {
   "cell_type": "code",
   "execution_count": 7,
   "metadata": {},
   "outputs": [
    {
     "data": {
      "text/plain": [
       "(10000, 28, 28)"
      ]
     },
     "execution_count": 7,
     "metadata": {},
     "output_type": "execute_result"
    }
   ],
   "source": [
    "# 10K test 28 x 28 (pixel) images\n",
    "X_test.shape"
   ]
  },
  {
   "cell_type": "code",
   "execution_count": 8,
   "metadata": {},
   "outputs": [],
   "source": [
    "# The training and test data sets are integers, ranging from 0 to 255.\n",
    "# We reshape the training and test data sets to be a 4D tensor.\n",
    "# Dimensions: num_images x 28 x 28 x 1\n",
    "# The 1 is because we have a single channel (greyscale). If RGB color images, we'd have 3 channels.\n",
    "X_train = X_train.reshape(60000, 28, 28, 1).astype('float32')\n",
    "X_test = X_test.reshape(10000, 28, 28, 1).astype('float32')\n",
    "input_shape = (28, 28, 1)"
   ]
  },
  {
   "cell_type": "code",
   "execution_count": 9,
   "metadata": {},
   "outputs": [],
   "source": [
    "# Scales the training and test data to range between 0 and 1.\n",
    "max_value = X_train.max()\n",
    "X_train /= max_value\n",
    "X_test /= max_value"
   ]
  },
  {
   "cell_type": "code",
   "execution_count": 10,
   "metadata": {},
   "outputs": [
    {
     "data": {
      "text/plain": [
       "(array([5, 0, 4, ..., 5, 6, 8], dtype=uint8),\n",
       " array([7, 2, 1, ..., 4, 5, 6], dtype=uint8))"
      ]
     },
     "execution_count": 10,
     "metadata": {},
     "output_type": "execute_result"
    }
   ],
   "source": [
    "# The training and test labels are integers from 0 to 9 indicating the class label\n",
    "(y_train, y_test)"
   ]
  },
  {
   "cell_type": "code",
   "execution_count": 11,
   "metadata": {},
   "outputs": [],
   "source": [
    "# We convert the class labels to binary class matrices\n",
    "y_train = np_utils.to_categorical(y_train, num_classes)\n",
    "y_test = np_utils.to_categorical(y_test, num_classes)"
   ]
  },
  {
   "cell_type": "code",
   "execution_count": 12,
   "metadata": {},
   "outputs": [],
   "source": [
    "model = Sequential()\n",
    "model.add(Conv2D(32, kernel_size=(3, 3), strides=(1, 1),\n",
    "                 activation='relu',\n",
    "                 input_shape=input_shape))\n",
    "model.add(MaxPooling2D(pool_size=(2, 2)))\n",
    "model.add(Conv2D(64, (3, 3), activation='relu'))\n",
    "model.add(Dropout(0.25))\n",
    "model.add(MaxPooling2D(pool_size=(2, 2)))\n",
    "model.add(Flatten())\n",
    "model.add(Dense(128, activation='relu'))\n",
    "model.add(Dropout(0.5))\n",
    "\n",
    "model.add(Dense(num_classes, activation='softmax'))"
   ]
  },
  {
   "cell_type": "code",
   "execution_count": 13,
   "metadata": {},
   "outputs": [
    {
     "name": "stdout",
     "output_type": "stream",
     "text": [
      "_________________________________________________________________\n",
      "Layer (type)                 Output Shape              Param #   \n",
      "=================================================================\n",
      "conv2d_1 (Conv2D)            (None, 26, 26, 32)        320       \n",
      "_________________________________________________________________\n",
      "max_pooling2d_1 (MaxPooling2 (None, 13, 13, 32)        0         \n",
      "_________________________________________________________________\n",
      "conv2d_2 (Conv2D)            (None, 11, 11, 64)        18496     \n",
      "_________________________________________________________________\n",
      "dropout_1 (Dropout)          (None, 11, 11, 64)        0         \n",
      "_________________________________________________________________\n",
      "max_pooling2d_2 (MaxPooling2 (None, 5, 5, 64)          0         \n",
      "_________________________________________________________________\n",
      "flatten_1 (Flatten)          (None, 1600)              0         \n",
      "_________________________________________________________________\n",
      "dense_1 (Dense)              (None, 128)               204928    \n",
      "_________________________________________________________________\n",
      "dropout_2 (Dropout)          (None, 128)               0         \n",
      "_________________________________________________________________\n",
      "dense_2 (Dense)              (None, 10)                1290      \n",
      "=================================================================\n",
      "Total params: 225,034\n",
      "Trainable params: 225,034\n",
      "Non-trainable params: 0\n",
      "_________________________________________________________________\n"
     ]
    }
   ],
   "source": [
    "model.summary()"
   ]
  },
  {
   "cell_type": "code",
   "execution_count": 14,
   "metadata": {},
   "outputs": [
    {
     "data": {
      "image/svg+xml": [
       "<svg height=\"802pt\" viewBox=\"0.00 0.00 388.00 802.00\" width=\"388pt\" xmlns=\"http://www.w3.org/2000/svg\" xmlns:xlink=\"http://www.w3.org/1999/xlink\">\n",
       "<g class=\"graph\" id=\"graph0\" transform=\"scale(1 1) rotate(0) translate(4 798)\">\n",
       "<title>G</title>\n",
       "<polygon fill=\"white\" points=\"-4,4 -4,-798 384,-798 384,4 -4,4\" stroke=\"none\"/>\n",
       "<!-- 139820538115984 -->\n",
       "<g class=\"node\" id=\"node1\"><title>139820538115984</title>\n",
       "<polygon fill=\"none\" points=\"21,-747.5 21,-793.5 359,-793.5 359,-747.5 21,-747.5\" stroke=\"black\"/>\n",
       "<text font-family=\"Times,serif\" font-size=\"14.00\" text-anchor=\"middle\" x=\"107\" y=\"-766.8\">conv2d_1_input: InputLayer</text>\n",
       "<polyline fill=\"none\" points=\"193,-747.5 193,-793.5 \" stroke=\"black\"/>\n",
       "<text font-family=\"Times,serif\" font-size=\"14.00\" text-anchor=\"middle\" x=\"220.5\" y=\"-778.3\">input:</text>\n",
       "<polyline fill=\"none\" points=\"193,-770.5 248,-770.5 \" stroke=\"black\"/>\n",
       "<text font-family=\"Times,serif\" font-size=\"14.00\" text-anchor=\"middle\" x=\"220.5\" y=\"-755.3\">output:</text>\n",
       "<polyline fill=\"none\" points=\"248,-747.5 248,-793.5 \" stroke=\"black\"/>\n",
       "<text font-family=\"Times,serif\" font-size=\"14.00\" text-anchor=\"middle\" x=\"303.5\" y=\"-778.3\">(None, 28, 28, 1)</text>\n",
       "<polyline fill=\"none\" points=\"248,-770.5 359,-770.5 \" stroke=\"black\"/>\n",
       "<text font-family=\"Times,serif\" font-size=\"14.00\" text-anchor=\"middle\" x=\"303.5\" y=\"-755.3\">(None, 28, 28, 1)</text>\n",
       "</g>\n",
       "<!-- 139820538115792 -->\n",
       "<g class=\"node\" id=\"node2\"><title>139820538115792</title>\n",
       "<polygon fill=\"none\" points=\"42,-664.5 42,-710.5 338,-710.5 338,-664.5 42,-664.5\" stroke=\"black\"/>\n",
       "<text font-family=\"Times,serif\" font-size=\"14.00\" text-anchor=\"middle\" x=\"103.5\" y=\"-683.8\">conv2d_1: Conv2D</text>\n",
       "<polyline fill=\"none\" points=\"165,-664.5 165,-710.5 \" stroke=\"black\"/>\n",
       "<text font-family=\"Times,serif\" font-size=\"14.00\" text-anchor=\"middle\" x=\"192.5\" y=\"-695.3\">input:</text>\n",
       "<polyline fill=\"none\" points=\"165,-687.5 220,-687.5 \" stroke=\"black\"/>\n",
       "<text font-family=\"Times,serif\" font-size=\"14.00\" text-anchor=\"middle\" x=\"192.5\" y=\"-672.3\">output:</text>\n",
       "<polyline fill=\"none\" points=\"220,-664.5 220,-710.5 \" stroke=\"black\"/>\n",
       "<text font-family=\"Times,serif\" font-size=\"14.00\" text-anchor=\"middle\" x=\"279\" y=\"-695.3\">(None, 28, 28, 1)</text>\n",
       "<polyline fill=\"none\" points=\"220,-687.5 338,-687.5 \" stroke=\"black\"/>\n",
       "<text font-family=\"Times,serif\" font-size=\"14.00\" text-anchor=\"middle\" x=\"279\" y=\"-672.3\">(None, 26, 26, 32)</text>\n",
       "</g>\n",
       "<!-- 139820538115984&#45;&gt;139820538115792 -->\n",
       "<g class=\"edge\" id=\"edge1\"><title>139820538115984-&gt;139820538115792</title>\n",
       "<path d=\"M190,-747.366C190,-739.152 190,-729.658 190,-720.725\" fill=\"none\" stroke=\"black\"/>\n",
       "<polygon fill=\"black\" points=\"193.5,-720.607 190,-710.607 186.5,-720.607 193.5,-720.607\" stroke=\"black\"/>\n",
       "</g>\n",
       "<!-- 139820537776720 -->\n",
       "<g class=\"node\" id=\"node3\"><title>139820537776720</title>\n",
       "<polygon fill=\"none\" points=\"0,-581.5 0,-627.5 380,-627.5 380,-581.5 0,-581.5\" stroke=\"black\"/>\n",
       "<text font-family=\"Times,serif\" font-size=\"14.00\" text-anchor=\"middle\" x=\"103.5\" y=\"-600.8\">max_pooling2d_1: MaxPooling2D</text>\n",
       "<polyline fill=\"none\" points=\"207,-581.5 207,-627.5 \" stroke=\"black\"/>\n",
       "<text font-family=\"Times,serif\" font-size=\"14.00\" text-anchor=\"middle\" x=\"234.5\" y=\"-612.3\">input:</text>\n",
       "<polyline fill=\"none\" points=\"207,-604.5 262,-604.5 \" stroke=\"black\"/>\n",
       "<text font-family=\"Times,serif\" font-size=\"14.00\" text-anchor=\"middle\" x=\"234.5\" y=\"-589.3\">output:</text>\n",
       "<polyline fill=\"none\" points=\"262,-581.5 262,-627.5 \" stroke=\"black\"/>\n",
       "<text font-family=\"Times,serif\" font-size=\"14.00\" text-anchor=\"middle\" x=\"321\" y=\"-612.3\">(None, 26, 26, 32)</text>\n",
       "<polyline fill=\"none\" points=\"262,-604.5 380,-604.5 \" stroke=\"black\"/>\n",
       "<text font-family=\"Times,serif\" font-size=\"14.00\" text-anchor=\"middle\" x=\"321\" y=\"-589.3\">(None, 13, 13, 32)</text>\n",
       "</g>\n",
       "<!-- 139820538115792&#45;&gt;139820537776720 -->\n",
       "<g class=\"edge\" id=\"edge2\"><title>139820538115792-&gt;139820537776720</title>\n",
       "<path d=\"M190,-664.366C190,-656.152 190,-646.658 190,-637.725\" fill=\"none\" stroke=\"black\"/>\n",
       "<polygon fill=\"black\" points=\"193.5,-637.607 190,-627.607 186.5,-637.607 193.5,-637.607\" stroke=\"black\"/>\n",
       "</g>\n",
       "<!-- 139820538115856 -->\n",
       "<g class=\"node\" id=\"node4\"><title>139820538115856</title>\n",
       "<polygon fill=\"none\" points=\"42,-498.5 42,-544.5 338,-544.5 338,-498.5 42,-498.5\" stroke=\"black\"/>\n",
       "<text font-family=\"Times,serif\" font-size=\"14.00\" text-anchor=\"middle\" x=\"103.5\" y=\"-517.8\">conv2d_2: Conv2D</text>\n",
       "<polyline fill=\"none\" points=\"165,-498.5 165,-544.5 \" stroke=\"black\"/>\n",
       "<text font-family=\"Times,serif\" font-size=\"14.00\" text-anchor=\"middle\" x=\"192.5\" y=\"-529.3\">input:</text>\n",
       "<polyline fill=\"none\" points=\"165,-521.5 220,-521.5 \" stroke=\"black\"/>\n",
       "<text font-family=\"Times,serif\" font-size=\"14.00\" text-anchor=\"middle\" x=\"192.5\" y=\"-506.3\">output:</text>\n",
       "<polyline fill=\"none\" points=\"220,-498.5 220,-544.5 \" stroke=\"black\"/>\n",
       "<text font-family=\"Times,serif\" font-size=\"14.00\" text-anchor=\"middle\" x=\"279\" y=\"-529.3\">(None, 13, 13, 32)</text>\n",
       "<polyline fill=\"none\" points=\"220,-521.5 338,-521.5 \" stroke=\"black\"/>\n",
       "<text font-family=\"Times,serif\" font-size=\"14.00\" text-anchor=\"middle\" x=\"279\" y=\"-506.3\">(None, 11, 11, 64)</text>\n",
       "</g>\n",
       "<!-- 139820537776720&#45;&gt;139820538115856 -->\n",
       "<g class=\"edge\" id=\"edge3\"><title>139820537776720-&gt;139820538115856</title>\n",
       "<path d=\"M190,-581.366C190,-573.152 190,-563.658 190,-554.725\" fill=\"none\" stroke=\"black\"/>\n",
       "<polygon fill=\"black\" points=\"193.5,-554.607 190,-544.607 186.5,-554.607 193.5,-554.607\" stroke=\"black\"/>\n",
       "</g>\n",
       "<!-- 139820537639888 -->\n",
       "<g class=\"node\" id=\"node5\"><title>139820537639888</title>\n",
       "<polygon fill=\"none\" points=\"41,-415.5 41,-461.5 339,-461.5 339,-415.5 41,-415.5\" stroke=\"black\"/>\n",
       "<text font-family=\"Times,serif\" font-size=\"14.00\" text-anchor=\"middle\" x=\"103.5\" y=\"-434.8\">dropout_1: Dropout</text>\n",
       "<polyline fill=\"none\" points=\"166,-415.5 166,-461.5 \" stroke=\"black\"/>\n",
       "<text font-family=\"Times,serif\" font-size=\"14.00\" text-anchor=\"middle\" x=\"193.5\" y=\"-446.3\">input:</text>\n",
       "<polyline fill=\"none\" points=\"166,-438.5 221,-438.5 \" stroke=\"black\"/>\n",
       "<text font-family=\"Times,serif\" font-size=\"14.00\" text-anchor=\"middle\" x=\"193.5\" y=\"-423.3\">output:</text>\n",
       "<polyline fill=\"none\" points=\"221,-415.5 221,-461.5 \" stroke=\"black\"/>\n",
       "<text font-family=\"Times,serif\" font-size=\"14.00\" text-anchor=\"middle\" x=\"280\" y=\"-446.3\">(None, 11, 11, 64)</text>\n",
       "<polyline fill=\"none\" points=\"221,-438.5 339,-438.5 \" stroke=\"black\"/>\n",
       "<text font-family=\"Times,serif\" font-size=\"14.00\" text-anchor=\"middle\" x=\"280\" y=\"-423.3\">(None, 11, 11, 64)</text>\n",
       "</g>\n",
       "<!-- 139820538115856&#45;&gt;139820537639888 -->\n",
       "<g class=\"edge\" id=\"edge4\"><title>139820538115856-&gt;139820537639888</title>\n",
       "<path d=\"M190,-498.366C190,-490.152 190,-480.658 190,-471.725\" fill=\"none\" stroke=\"black\"/>\n",
       "<polygon fill=\"black\" points=\"193.5,-471.607 190,-461.607 186.5,-471.607 193.5,-471.607\" stroke=\"black\"/>\n",
       "</g>\n",
       "<!-- 139820580111632 -->\n",
       "<g class=\"node\" id=\"node6\"><title>139820580111632</title>\n",
       "<polygon fill=\"none\" points=\"0,-332.5 0,-378.5 380,-378.5 380,-332.5 0,-332.5\" stroke=\"black\"/>\n",
       "<text font-family=\"Times,serif\" font-size=\"14.00\" text-anchor=\"middle\" x=\"103.5\" y=\"-351.8\">max_pooling2d_2: MaxPooling2D</text>\n",
       "<polyline fill=\"none\" points=\"207,-332.5 207,-378.5 \" stroke=\"black\"/>\n",
       "<text font-family=\"Times,serif\" font-size=\"14.00\" text-anchor=\"middle\" x=\"234.5\" y=\"-363.3\">input:</text>\n",
       "<polyline fill=\"none\" points=\"207,-355.5 262,-355.5 \" stroke=\"black\"/>\n",
       "<text font-family=\"Times,serif\" font-size=\"14.00\" text-anchor=\"middle\" x=\"234.5\" y=\"-340.3\">output:</text>\n",
       "<polyline fill=\"none\" points=\"262,-332.5 262,-378.5 \" stroke=\"black\"/>\n",
       "<text font-family=\"Times,serif\" font-size=\"14.00\" text-anchor=\"middle\" x=\"321\" y=\"-363.3\">(None, 11, 11, 64)</text>\n",
       "<polyline fill=\"none\" points=\"262,-355.5 380,-355.5 \" stroke=\"black\"/>\n",
       "<text font-family=\"Times,serif\" font-size=\"14.00\" text-anchor=\"middle\" x=\"321\" y=\"-340.3\">(None, 5, 5, 64)</text>\n",
       "</g>\n",
       "<!-- 139820537639888&#45;&gt;139820580111632 -->\n",
       "<g class=\"edge\" id=\"edge5\"><title>139820537639888-&gt;139820580111632</title>\n",
       "<path d=\"M190,-415.366C190,-407.152 190,-397.658 190,-388.725\" fill=\"none\" stroke=\"black\"/>\n",
       "<polygon fill=\"black\" points=\"193.5,-388.607 190,-378.607 186.5,-388.607 193.5,-388.607\" stroke=\"black\"/>\n",
       "</g>\n",
       "<!-- 139820537777744 -->\n",
       "<g class=\"node\" id=\"node7\"><title>139820537777744</title>\n",
       "<polygon fill=\"none\" points=\"55.5,-249.5 55.5,-295.5 324.5,-295.5 324.5,-249.5 55.5,-249.5\" stroke=\"black\"/>\n",
       "<text font-family=\"Times,serif\" font-size=\"14.00\" text-anchor=\"middle\" x=\"110.5\" y=\"-268.8\">flatten_1: Flatten</text>\n",
       "<polyline fill=\"none\" points=\"165.5,-249.5 165.5,-295.5 \" stroke=\"black\"/>\n",
       "<text font-family=\"Times,serif\" font-size=\"14.00\" text-anchor=\"middle\" x=\"193\" y=\"-280.3\">input:</text>\n",
       "<polyline fill=\"none\" points=\"165.5,-272.5 220.5,-272.5 \" stroke=\"black\"/>\n",
       "<text font-family=\"Times,serif\" font-size=\"14.00\" text-anchor=\"middle\" x=\"193\" y=\"-257.3\">output:</text>\n",
       "<polyline fill=\"none\" points=\"220.5,-249.5 220.5,-295.5 \" stroke=\"black\"/>\n",
       "<text font-family=\"Times,serif\" font-size=\"14.00\" text-anchor=\"middle\" x=\"272.5\" y=\"-280.3\">(None, 5, 5, 64)</text>\n",
       "<polyline fill=\"none\" points=\"220.5,-272.5 324.5,-272.5 \" stroke=\"black\"/>\n",
       "<text font-family=\"Times,serif\" font-size=\"14.00\" text-anchor=\"middle\" x=\"272.5\" y=\"-257.3\">(None, 1600)</text>\n",
       "</g>\n",
       "<!-- 139820580111632&#45;&gt;139820537777744 -->\n",
       "<g class=\"edge\" id=\"edge6\"><title>139820580111632-&gt;139820537777744</title>\n",
       "<path d=\"M190,-332.366C190,-324.152 190,-314.658 190,-305.725\" fill=\"none\" stroke=\"black\"/>\n",
       "<polygon fill=\"black\" points=\"193.5,-305.607 190,-295.607 186.5,-305.607 193.5,-305.607\" stroke=\"black\"/>\n",
       "</g>\n",
       "<!-- 139820580025872 -->\n",
       "<g class=\"node\" id=\"node8\"><title>139820580025872</title>\n",
       "<polygon fill=\"none\" points=\"67,-166.5 67,-212.5 313,-212.5 313,-166.5 67,-166.5\" stroke=\"black\"/>\n",
       "<text font-family=\"Times,serif\" font-size=\"14.00\" text-anchor=\"middle\" x=\"118\" y=\"-185.8\">dense_1: Dense</text>\n",
       "<polyline fill=\"none\" points=\"169,-166.5 169,-212.5 \" stroke=\"black\"/>\n",
       "<text font-family=\"Times,serif\" font-size=\"14.00\" text-anchor=\"middle\" x=\"196.5\" y=\"-197.3\">input:</text>\n",
       "<polyline fill=\"none\" points=\"169,-189.5 224,-189.5 \" stroke=\"black\"/>\n",
       "<text font-family=\"Times,serif\" font-size=\"14.00\" text-anchor=\"middle\" x=\"196.5\" y=\"-174.3\">output:</text>\n",
       "<polyline fill=\"none\" points=\"224,-166.5 224,-212.5 \" stroke=\"black\"/>\n",
       "<text font-family=\"Times,serif\" font-size=\"14.00\" text-anchor=\"middle\" x=\"268.5\" y=\"-197.3\">(None, 1600)</text>\n",
       "<polyline fill=\"none\" points=\"224,-189.5 313,-189.5 \" stroke=\"black\"/>\n",
       "<text font-family=\"Times,serif\" font-size=\"14.00\" text-anchor=\"middle\" x=\"268.5\" y=\"-174.3\">(None, 128)</text>\n",
       "</g>\n",
       "<!-- 139820537777744&#45;&gt;139820580025872 -->\n",
       "<g class=\"edge\" id=\"edge7\"><title>139820537777744-&gt;139820580025872</title>\n",
       "<path d=\"M190,-249.366C190,-241.152 190,-231.658 190,-222.725\" fill=\"none\" stroke=\"black\"/>\n",
       "<polygon fill=\"black\" points=\"193.5,-222.607 190,-212.607 186.5,-222.607 193.5,-222.607\" stroke=\"black\"/>\n",
       "</g>\n",
       "<!-- 139820580181840 -->\n",
       "<g class=\"node\" id=\"node9\"><title>139820580181840</title>\n",
       "<polygon fill=\"none\" points=\"58.5,-83.5 58.5,-129.5 321.5,-129.5 321.5,-83.5 58.5,-83.5\" stroke=\"black\"/>\n",
       "<text font-family=\"Times,serif\" font-size=\"14.00\" text-anchor=\"middle\" x=\"121\" y=\"-102.8\">dropout_2: Dropout</text>\n",
       "<polyline fill=\"none\" points=\"183.5,-83.5 183.5,-129.5 \" stroke=\"black\"/>\n",
       "<text font-family=\"Times,serif\" font-size=\"14.00\" text-anchor=\"middle\" x=\"211\" y=\"-114.3\">input:</text>\n",
       "<polyline fill=\"none\" points=\"183.5,-106.5 238.5,-106.5 \" stroke=\"black\"/>\n",
       "<text font-family=\"Times,serif\" font-size=\"14.00\" text-anchor=\"middle\" x=\"211\" y=\"-91.3\">output:</text>\n",
       "<polyline fill=\"none\" points=\"238.5,-83.5 238.5,-129.5 \" stroke=\"black\"/>\n",
       "<text font-family=\"Times,serif\" font-size=\"14.00\" text-anchor=\"middle\" x=\"280\" y=\"-114.3\">(None, 128)</text>\n",
       "<polyline fill=\"none\" points=\"238.5,-106.5 321.5,-106.5 \" stroke=\"black\"/>\n",
       "<text font-family=\"Times,serif\" font-size=\"14.00\" text-anchor=\"middle\" x=\"280\" y=\"-91.3\">(None, 128)</text>\n",
       "</g>\n",
       "<!-- 139820580025872&#45;&gt;139820580181840 -->\n",
       "<g class=\"edge\" id=\"edge8\"><title>139820580025872-&gt;139820580181840</title>\n",
       "<path d=\"M190,-166.366C190,-158.152 190,-148.658 190,-139.725\" fill=\"none\" stroke=\"black\"/>\n",
       "<polygon fill=\"black\" points=\"193.5,-139.607 190,-129.607 186.5,-139.607 193.5,-139.607\" stroke=\"black\"/>\n",
       "</g>\n",
       "<!-- 139820577777680 -->\n",
       "<g class=\"node\" id=\"node10\"><title>139820577777680</title>\n",
       "<polygon fill=\"none\" points=\"70,-0.5 70,-46.5 310,-46.5 310,-0.5 70,-0.5\" stroke=\"black\"/>\n",
       "<text font-family=\"Times,serif\" font-size=\"14.00\" text-anchor=\"middle\" x=\"121\" y=\"-19.8\">dense_2: Dense</text>\n",
       "<polyline fill=\"none\" points=\"172,-0.5 172,-46.5 \" stroke=\"black\"/>\n",
       "<text font-family=\"Times,serif\" font-size=\"14.00\" text-anchor=\"middle\" x=\"199.5\" y=\"-31.3\">input:</text>\n",
       "<polyline fill=\"none\" points=\"172,-23.5 227,-23.5 \" stroke=\"black\"/>\n",
       "<text font-family=\"Times,serif\" font-size=\"14.00\" text-anchor=\"middle\" x=\"199.5\" y=\"-8.3\">output:</text>\n",
       "<polyline fill=\"none\" points=\"227,-0.5 227,-46.5 \" stroke=\"black\"/>\n",
       "<text font-family=\"Times,serif\" font-size=\"14.00\" text-anchor=\"middle\" x=\"268.5\" y=\"-31.3\">(None, 128)</text>\n",
       "<polyline fill=\"none\" points=\"227,-23.5 310,-23.5 \" stroke=\"black\"/>\n",
       "<text font-family=\"Times,serif\" font-size=\"14.00\" text-anchor=\"middle\" x=\"268.5\" y=\"-8.3\">(None, 10)</text>\n",
       "</g>\n",
       "<!-- 139820580181840&#45;&gt;139820577777680 -->\n",
       "<g class=\"edge\" id=\"edge9\"><title>139820580181840-&gt;139820577777680</title>\n",
       "<path d=\"M190,-83.3664C190,-75.1516 190,-65.6579 190,-56.7252\" fill=\"none\" stroke=\"black\"/>\n",
       "<polygon fill=\"black\" points=\"193.5,-56.6068 190,-46.6068 186.5,-56.6069 193.5,-56.6068\" stroke=\"black\"/>\n",
       "</g>\n",
       "</g>\n",
       "</svg>"
      ],
      "text/plain": [
       "<IPython.core.display.SVG object>"
      ]
     },
     "execution_count": 14,
     "metadata": {},
     "output_type": "execute_result"
    }
   ],
   "source": [
    "SVG(model_to_dot(model, show_shapes=True).create(prog='dot', format='svg'))\n"
   ]
  },
  {
   "cell_type": "code",
   "execution_count": 15,
   "metadata": {},
   "outputs": [
    {
     "data": {
      "text/plain": [
       "{u'backend': u'tensorflow',\n",
       " u'class_name': u'Sequential',\n",
       " u'config': [{u'class_name': u'Conv2D',\n",
       "   u'config': {u'activation': u'relu',\n",
       "    u'activity_regularizer': None,\n",
       "    u'batch_input_shape': [None, 28, 28, 1],\n",
       "    u'bias_constraint': None,\n",
       "    u'bias_initializer': {u'class_name': u'Zeros', u'config': {}},\n",
       "    u'bias_regularizer': None,\n",
       "    u'data_format': u'channels_last',\n",
       "    u'dilation_rate': [1, 1],\n",
       "    u'dtype': u'float32',\n",
       "    u'filters': 32,\n",
       "    u'kernel_constraint': None,\n",
       "    u'kernel_initializer': {u'class_name': u'VarianceScaling',\n",
       "     u'config': {u'distribution': u'uniform',\n",
       "      u'mode': u'fan_avg',\n",
       "      u'scale': 1.0,\n",
       "      u'seed': None}},\n",
       "    u'kernel_regularizer': None,\n",
       "    u'kernel_size': [3, 3],\n",
       "    u'name': u'conv2d_1',\n",
       "    u'padding': u'valid',\n",
       "    u'strides': [1, 1],\n",
       "    u'trainable': True,\n",
       "    u'use_bias': True}},\n",
       "  {u'class_name': u'MaxPooling2D',\n",
       "   u'config': {u'data_format': u'channels_last',\n",
       "    u'name': u'max_pooling2d_1',\n",
       "    u'padding': u'valid',\n",
       "    u'pool_size': [2, 2],\n",
       "    u'strides': [2, 2],\n",
       "    u'trainable': True}},\n",
       "  {u'class_name': u'Conv2D',\n",
       "   u'config': {u'activation': u'relu',\n",
       "    u'activity_regularizer': None,\n",
       "    u'bias_constraint': None,\n",
       "    u'bias_initializer': {u'class_name': u'Zeros', u'config': {}},\n",
       "    u'bias_regularizer': None,\n",
       "    u'data_format': u'channels_last',\n",
       "    u'dilation_rate': [1, 1],\n",
       "    u'filters': 64,\n",
       "    u'kernel_constraint': None,\n",
       "    u'kernel_initializer': {u'class_name': u'VarianceScaling',\n",
       "     u'config': {u'distribution': u'uniform',\n",
       "      u'mode': u'fan_avg',\n",
       "      u'scale': 1.0,\n",
       "      u'seed': None}},\n",
       "    u'kernel_regularizer': None,\n",
       "    u'kernel_size': [3, 3],\n",
       "    u'name': u'conv2d_2',\n",
       "    u'padding': u'valid',\n",
       "    u'strides': [1, 1],\n",
       "    u'trainable': True,\n",
       "    u'use_bias': True}},\n",
       "  {u'class_name': u'Dropout',\n",
       "   u'config': {u'name': u'dropout_1',\n",
       "    u'noise_shape': None,\n",
       "    u'rate': 0.25,\n",
       "    u'seed': None,\n",
       "    u'trainable': True}},\n",
       "  {u'class_name': u'MaxPooling2D',\n",
       "   u'config': {u'data_format': u'channels_last',\n",
       "    u'name': u'max_pooling2d_2',\n",
       "    u'padding': u'valid',\n",
       "    u'pool_size': [2, 2],\n",
       "    u'strides': [2, 2],\n",
       "    u'trainable': True}},\n",
       "  {u'class_name': u'Flatten',\n",
       "   u'config': {u'name': u'flatten_1', u'trainable': True}},\n",
       "  {u'class_name': u'Dense',\n",
       "   u'config': {u'activation': u'relu',\n",
       "    u'activity_regularizer': None,\n",
       "    u'bias_constraint': None,\n",
       "    u'bias_initializer': {u'class_name': u'Zeros', u'config': {}},\n",
       "    u'bias_regularizer': None,\n",
       "    u'kernel_constraint': None,\n",
       "    u'kernel_initializer': {u'class_name': u'VarianceScaling',\n",
       "     u'config': {u'distribution': u'uniform',\n",
       "      u'mode': u'fan_avg',\n",
       "      u'scale': 1.0,\n",
       "      u'seed': None}},\n",
       "    u'kernel_regularizer': None,\n",
       "    u'name': u'dense_1',\n",
       "    u'trainable': True,\n",
       "    u'units': 128,\n",
       "    u'use_bias': True}},\n",
       "  {u'class_name': u'Dropout',\n",
       "   u'config': {u'name': u'dropout_2',\n",
       "    u'noise_shape': None,\n",
       "    u'rate': 0.5,\n",
       "    u'seed': None,\n",
       "    u'trainable': True}},\n",
       "  {u'class_name': u'Dense',\n",
       "   u'config': {u'activation': u'softmax',\n",
       "    u'activity_regularizer': None,\n",
       "    u'bias_constraint': None,\n",
       "    u'bias_initializer': {u'class_name': u'Zeros', u'config': {}},\n",
       "    u'bias_regularizer': None,\n",
       "    u'kernel_constraint': None,\n",
       "    u'kernel_initializer': {u'class_name': u'VarianceScaling',\n",
       "     u'config': {u'distribution': u'uniform',\n",
       "      u'mode': u'fan_avg',\n",
       "      u'scale': 1.0,\n",
       "      u'seed': None}},\n",
       "    u'kernel_regularizer': None,\n",
       "    u'name': u'dense_2',\n",
       "    u'trainable': True,\n",
       "    u'units': 10,\n",
       "    u'use_bias': True}}],\n",
       " u'keras_version': u'2.1.4'}"
      ]
     },
     "execution_count": 15,
     "metadata": {},
     "output_type": "execute_result"
    }
   ],
   "source": [
    "import json\n",
    "json.loads(model.to_json())"
   ]
  },
  {
   "cell_type": "code",
   "execution_count": 16,
   "metadata": {},
   "outputs": [
    {
     "name": "stdout",
     "output_type": "stream",
     "text": [
      "Epoch 1/20\n",
      "60000/60000 [==============================] - 4s 60us/step - loss: 0.0465 - acc: 0.9840\n",
      "Epoch 2/20\n",
      "60000/60000 [==============================] - 3s 47us/step - loss: 0.0169 - acc: 0.9944\n",
      "Epoch 3/20\n",
      "60000/60000 [==============================] - 3s 46us/step - loss: 0.0129 - acc: 0.9958\n",
      "Epoch 4/20\n",
      "60000/60000 [==============================] - 3s 46us/step - loss: 0.0104 - acc: 0.9966\n",
      "Epoch 5/20\n",
      "60000/60000 [==============================] - 3s 47us/step - loss: 0.0093 - acc: 0.9970\n",
      "Epoch 6/20\n",
      "60000/60000 [==============================] - 3s 46us/step - loss: 0.0082 - acc: 0.9973\n",
      "Epoch 7/20\n",
      "60000/60000 [==============================] - 3s 48us/step - loss: 0.0075 - acc: 0.9976\n",
      "Epoch 8/20\n",
      "60000/60000 [==============================] - 3s 48us/step - loss: 0.0068 - acc: 0.9977\n",
      "Epoch 9/20\n",
      "60000/60000 [==============================] - 3s 48us/step - loss: 0.0060 - acc: 0.9980\n",
      "Epoch 10/20\n",
      "60000/60000 [==============================] - 3s 46us/step - loss: 0.0057 - acc: 0.9981\n",
      "Epoch 11/20\n",
      "60000/60000 [==============================] - 3s 47us/step - loss: 0.0055 - acc: 0.9982\n",
      "Epoch 12/20\n",
      "60000/60000 [==============================] - 3s 48us/step - loss: 0.0050 - acc: 0.9983\n",
      "Epoch 13/20\n",
      "60000/60000 [==============================] - 3s 47us/step - loss: 0.0045 - acc: 0.9985\n",
      "Epoch 14/20\n",
      "60000/60000 [==============================] - 3s 46us/step - loss: 0.0044 - acc: 0.9986\n",
      "Epoch 15/20\n",
      "60000/60000 [==============================] - 3s 47us/step - loss: 0.0044 - acc: 0.9986\n",
      "Epoch 16/20\n",
      "60000/60000 [==============================] - 3s 47us/step - loss: 0.0041 - acc: 0.9987\n",
      "Epoch 17/20\n",
      "60000/60000 [==============================] - 3s 47us/step - loss: 0.0038 - acc: 0.9987\n",
      "Epoch 18/20\n",
      "60000/60000 [==============================] - 3s 47us/step - loss: 0.0037 - acc: 0.9987\n",
      "Epoch 19/20\n",
      "60000/60000 [==============================] - 3s 46us/step - loss: 0.0034 - acc: 0.9988\n",
      "Epoch 20/20\n",
      "60000/60000 [==============================] - 3s 46us/step - loss: 0.0035 - acc: 0.9988\n",
      "['acc', 'loss']\n"
     ]
    },
    {
     "data": {
      "image/png": "[encoded data removed]",
      "text/plain": [
       "<matplotlib.figure.Figure at 0x7f2a81894c10>"
      ]
     },
     "metadata": {},
     "output_type": "display_data"
    },
    {
     "data": {
      "image/png": "[encoded data removed]",
      "text/plain": [
       "<matplotlib.figure.Figure at 0x7f2acb541f90>"
      ]
     },
     "metadata": {},
     "output_type": "display_data"
    }
   ],
   "source": [
    "# Compile model\n",
    "model.compile(loss='binary_crossentropy', optimizer='adam', metrics=['accuracy'])\n",
    "# Fit the model\n",
    "\n",
    "history = model.fit(X_train, y_train, batch_size=128, epochs=20, shuffle=True, verbose=1)\n",
    "# list all data in history\n",
    "print(history.history.keys())\n",
    "# summarize history for accuracy\n",
    "plt.plot(history.history['acc'])\n",
    "#plt.plot(history.history['val_acc'])\n",
    "plt.title('model accuracy')\n",
    "plt.ylabel('accuracy')\n",
    "plt.xlabel('epoch')\n",
    "plt.legend(['train'], loc='upper left')\n",
    "plt.show()\n",
    "# summarize history for loss\n",
    "plt.plot(history.history['loss'])\n",
    "#plt.plot(history.history['val_loss'])\n",
    "plt.title('model loss')\n",
    "plt.ylabel('loss')\n",
    "plt.xlabel('epoch')\n",
    "plt.legend(['train'], loc='upper left')\n",
    "plt.show()"
   ]
  },
  {
   "cell_type": "code",
   "execution_count": 17,
   "metadata": {},
   "outputs": [
    {
     "name": "stdout",
     "output_type": "stream",
     "text": [
      "10000/10000 [==============================] - 0s 17us/step\n",
      "Summary: Loss over the test dataset: 0.0039, Accuracy: 0.9987\n"
     ]
    }
   ],
   "source": [
    "\n",
    "# Evaluation on test data\n",
    "#model.evaluate(X_test, y_test)\n",
    "evaluation = model.evaluate(X_test, y_test, batch_size=256, verbose=1)\n",
    "print('Summary: Loss over the test dataset: %.4f, Accuracy: %.4f' % (evaluation[0], evaluation[1]))"
   ]
  },
  {
   "cell_type": "code",
   "execution_count": 18,
   "metadata": {},
   "outputs": [
    {
     "data": {
      "image/png": "[encoded data removed]",
      "text/plain": [
       "<matplotlib.figure.Figure at 0x7f2a818c34d0>"
      ]
     },
     "metadata": {},
     "output_type": "display_data"
    }
   ],
   "source": [
    "first_test_image = X_test[0, :]\n",
    "plt.imshow(first_test_image.reshape(28, 28), cmap=plt.cm.Greys);"
   ]
  },
  {
   "cell_type": "code",
   "execution_count": 19,
   "metadata": {},
   "outputs": [
    {
     "data": {
      "image/png": "[encoded data removed]",
      "text/plain": [
       "<matplotlib.figure.Figure at 0x7f2acb4a1f10>"
      ]
     },
     "metadata": {},
     "output_type": "display_data"
    }
   ],
   "source": [
    "second_test_image = X_test[1, :]\n",
    "plt.imshow(second_test_image.reshape(28, 28), cmap=plt.cm.Greys);"
   ]
  },
  {
   "cell_type": "code",
   "execution_count": 20,
   "metadata": {},
   "outputs": [
    {
     "data": {
      "text/plain": [
       "array([7, 2])"
      ]
     },
     "execution_count": 20,
     "metadata": {},
     "output_type": "execute_result"
    }
   ],
   "source": [
    "model.predict_classes(X_test[[0, 1], :])"
   ]
  },
  {
   "cell_type": "code",
   "execution_count": 21,
   "metadata": {},
   "outputs": [
    {
     "name": "stdout",
     "output_type": "stream",
     "text": [
      "             precision    recall  f1-score   support\n",
      "\n",
      "          0       0.99      0.99      0.99       980\n",
      "          1       0.99      1.00      1.00      1135\n",
      "          2       1.00      0.99      0.99      1032\n",
      "          3       1.00      1.00      1.00      1010\n",
      "          4       1.00      0.99      0.99       982\n",
      "          5       0.99      0.99      0.99       892\n",
      "          6       1.00      0.99      0.99       958\n",
      "          7       0.99      0.99      0.99      1028\n",
      "          8       0.99      0.99      0.99       974\n",
      "          9       0.99      0.99      0.99      1009\n",
      "\n",
      "avg / total       0.99      0.99      0.99     10000\n",
      "\n"
     ]
    }
   ],
   "source": [
    "from sklearn.metrics import classification_report\n",
    "import numpy as np\n",
    "\n",
    "Y_test = np.argmax(y_test, axis=1) # Convert one-hot to index\n",
    "y_pred = model.predict_classes(X_test)\n",
    "print(classification_report(Y_test, y_pred))"
   ]
  },
  {
   "cell_type": "code",
   "execution_count": 22,
   "metadata": {},
   "outputs": [],
   "source": [
    "def plot_confusion_matrix(cm, classes,\n",
    "                          normalize=False,\n",
    "                          title='Confusion matrix',\n",
    "                          cmap=plt.cm.Blues):\n",
    "    \"\"\"\n",
    "    This function prints and plots the confusion matrix.\n",
    "    Normalization can be applied by setting `normalize=True`.\n",
    "    \"\"\"\n",
    "    plt.imshow(cm, interpolation='nearest', cmap=cmap)\n",
    "    plt.title(title)\n",
    "    plt.colorbar()\n",
    "    tick_marks = np.arange(len(classes))\n",
    "    plt.xticks(tick_marks, classes, rotation=45)\n",
    "    plt.yticks(tick_marks, classes)\n",
    "\n",
    "    if normalize:\n",
    "        cm = cm.astype('float') / cm.sum(axis=1)[:, np.newaxis]\n",
    "        print(\"Normalized confusion matrix\")\n",
    "    else:\n",
    "        print('Confusion matrix, without normalization')\n",
    "\n",
    "    print(cm)\n",
    "\n",
    "    thresh = cm.max() / 2.\n",
    "    for i, j in itertools.product(range(cm.shape[0]), range(cm.shape[1])):\n",
    "        plt.text(j, i, cm[i, j],\n",
    "                 horizontalalignment=\"center\",\n",
    "                 color=\"white\" if cm[i, j] > thresh else \"black\")\n",
    "\n",
    "    plt.tight_layout()\n",
    "    plt.ylabel('True label')\n",
    "    plt.xlabel('Predicted label')"
   ]
  },
  {
   "cell_type": "code",
   "execution_count": 23,
   "metadata": {},
   "outputs": [],
   "source": [
    "from sklearn.metrics import confusion_matrix\n",
    "import itertools\n"
   ]
  },
  {
   "cell_type": "code",
   "execution_count": 24,
   "metadata": {},
   "outputs": [],
   "source": [
    "cm = confusion_matrix(y_test_confusion_matrix , y_pred)\n"
   ]
  },
  {
   "cell_type": "code",
   "execution_count": 25,
   "metadata": {},
   "outputs": [
    {
     "name": "stdout",
     "output_type": "stream",
     "text": [
      "Confusion matrix, without normalization\n",
      "[[ 975    1    1    0    0    1    0    1    1    0]\n",
      " [   0 1134    0    0    0    0    0    0    0    1]\n",
      " [   2    1 1024    0    0    0    0    3    2    0]\n",
      " [   0    0    0 1008    0    1    0    0    1    0]\n",
      " [   0    0    0    0  976    0    2    0    2    2]\n",
      " [   1    0    0    4    0  884    1    1    1    0]\n",
      " [   3    2    0    0    1    2  948    0    2    0]\n",
      " [   0    2    2    0    0    0    0 1022    0    2]\n",
      " [   2    1    0    1    0    0    0    2  966    2]\n",
      " [   0    3    0    0    3    4    0    1    3  995]]\n"
     ]
    },
    {
     "data": {
      "image/png": "[encoded data removed]",
      "text/plain": [
       "<matplotlib.figure.Figure at 0x7f2a6c7a9a50>"
      ]
     },
     "metadata": {},
     "output_type": "display_data"
    }
   ],
   "source": [
    "cm_plot_labels = ['0','1','2','3', '4','5','6','7','8','9']\n",
    "plot_confusion_matrix(cm, cm_plot_labels, title='Confusion Matrix')"
   ]
  },
  {
   "cell_type": "code",
   "execution_count": null,
   "metadata": {},
   "outputs": [],
   "source": []
  }
 ],
 "metadata": {
  "kernelspec": {
   "display_name": "Python 2",
   "language": "python",
   "name": "python2"
  },
  "language_info": {
   "codemirror_mode": {
    "name": "ipython",
    "version": 2
   },
   "file_extension": ".py",
   "mimetype": "text/x-python",
   "name": "python",
   "nbconvert_exporter": "python",
   "pygments_lexer": "ipython2",
   "version": "2.7.12"
  }
 },
 "nbformat": 4,
 "nbformat_minor": 2
}
